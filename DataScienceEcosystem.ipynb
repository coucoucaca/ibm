{
 "cells": [
  {
   "cell_type": "markdown",
   "id": "7b0c0e97-228e-4581-8d16-7b466a13de5c",
   "metadata": {
    "tags": []
   },
   "source": [
    "# Data Science Tools and Ecosystem \n"
   ]
  },
  {
   "cell_type": "markdown",
   "id": "3654b7e0-1fd2-4908-b1a1-5a20091b82c7",
   "metadata": {},
   "source": [
    "In this notebook, Data Science Tools and Ecosystem are summarized."
   ]
  },
  {
   "cell_type": "markdown",
   "id": "beea5c29-79f8-4852-8cbc-133363d516d7",
   "metadata": {},
   "source": [
    "** Objectives: ** \n",
    "- Popular Language used by Data Scientist: Python & R\n",
    "- Database: MySQL, MongoDB, Hadoop\n",
    "- IDE: Jupyter,Spyder, VSCode\n",
    "- Code management: GIT"
   ]
  },
  {
   "cell_type": "markdown",
   "id": "615d1572-ffb7-449b-b65f-da06a253d167",
   "metadata": {
    "tags": []
   },
   "source": [
    "Some of the popular languages that Data Scientists use are: \n",
    "\n",
    "1. Python \n",
    "2. R\n",
    "3. C++\n",
    "4. Julia\n",
    "\n"
   ]
  },
  {
   "cell_type": "markdown",
   "id": "09a1139c-f7a3-47ed-8b61-9d22c5189fde",
   "metadata": {},
   "source": [
    "Some of the commonly used libraries used by Data Scientists include:\n",
    "\n",
    "1. Pandas \n",
    "2. Matplotlib \n",
    "3. Scikit-learn\n"
   ]
  },
  {
   "cell_type": "markdown",
   "id": "79708063-0576-44cd-b718-810388c368d6",
   "metadata": {
    "tags": []
   },
   "source": [
    "\n",
    "|Data Science Tools|\n",
    "| ----------------- |\n",
    "| Jupyter Notebooks |\n",
    "| RStudio |\n",
    "| Spyder |\n"
   ]
  },
  {
   "cell_type": "markdown",
   "id": "96265553-4391-4bf7-b8c1-969e7a76d541",
   "metadata": {
    "tags": []
   },
   "source": [
    "### Below are a few examples of evaluating arithmetic expressions in Python."
   ]
  },
  {
   "cell_type": "code",
   "execution_count": 3,
   "id": "41eb5c7e-ce57-42ea-bb5b-a91dfe9c4cf8",
   "metadata": {
    "tags": []
   },
   "outputs": [
    {
     "data": {
      "text/plain": [
       "17"
      ]
     },
     "execution_count": 3,
     "metadata": {},
     "output_type": "execute_result"
    }
   ],
   "source": [
    "# This a simple arithmetic expression to mutiply then add integers\n",
    "(3*4)+5"
   ]
  },
  {
   "cell_type": "code",
   "execution_count": 7,
   "id": "4c01bf31-5766-421e-a702-be9e98a911c7",
   "metadata": {
    "tags": []
   },
   "outputs": [
    {
     "data": {
      "text/plain": [
       "3.3333333333333335"
      ]
     },
     "execution_count": 7,
     "metadata": {},
     "output_type": "execute_result"
    }
   ],
   "source": [
    "# This will convert 200 minutes to hours by diving by 60\n",
    "200/60"
   ]
  },
  {
   "cell_type": "markdown",
   "id": "4d88789a-71a9-493f-86c6-9f72f768e5cb",
   "metadata": {},
   "source": [
    "**Objectives:**"
   ]
  },
  {
   "cell_type": "markdown",
   "id": "bec3d3a3-3b18-4354-9411-f2da3e453a9b",
   "metadata": {
    "tags": []
   },
   "source": [
    "## Author\n",
    "Akiko McQuerrey"
   ]
  }
 ],
 "metadata": {
  "kernelspec": {
   "display_name": "Python",
   "language": "python",
   "name": "conda-env-python-py"
  },
  "language_info": {
   "codemirror_mode": {
    "name": "ipython",
    "version": 3
   },
   "file_extension": ".py",
   "mimetype": "text/x-python",
   "name": "python",
   "nbconvert_exporter": "python",
   "pygments_lexer": "ipython3",
   "version": "3.7.12"
  }
 },
 "nbformat": 4,
 "nbformat_minor": 5
}
